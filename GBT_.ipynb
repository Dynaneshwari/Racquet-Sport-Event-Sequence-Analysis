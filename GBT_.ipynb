{
 "cells": [
  {
   "cell_type": "code",
   "execution_count": 1,
   "id": "47b75dbf-9ad4-429b-a64c-680e54045b09",
   "metadata": {},
   "outputs": [],
   "source": [
    "import pandas as pd\n",
    "import numpy as np "
   ]
  },
  {
   "cell_type": "code",
   "execution_count": 2,
   "id": "baea5426-75cc-42c9-a2a7-9e76bf216227",
   "metadata": {},
   "outputs": [
    {
     "name": "stdout",
     "output_type": "stream",
     "text": [
      "   Attributes     Groups                        Values\n",
      "0     BallPos    Serving  Right Section of Middle Road\n",
      "1         NaN        NaN                    Right Zone\n",
      "2         NaN        NaN   Left Section of Middle Road\n",
      "3         NaN        NaN                     Left Zone\n",
      "4         NaN        NaN  Outside Corner of Right Zone\n",
      "..        ...        ...                           ...\n",
      "59       Spin    Up spin                      Top Spin\n",
      "60        NaN    No spin                      Flat Hit\n",
      "61        NaN  Down spin                     Down Spin\n",
      "62        NaN     Others                    Data Error\n",
      "63        NaN        NaN                         Score\n",
      "\n",
      "[64 rows x 3 columns]\n"
     ]
    }
   ],
   "source": [
    "df = pd.read_csv('/Users/dynaneshwarijangale/Downloads/Tennis.csv')\n",
    "print(df)"
   ]
  },
  {
   "cell_type": "code",
   "execution_count": 6,
   "id": "05cacace-3bda-4996-ace4-f9abd2849d18",
   "metadata": {},
   "outputs": [
    {
     "name": "stdout",
     "output_type": "stream",
     "text": [
      "Accuracy: 0.6666666666666666\n",
      "Precision: 0.6666666666666666\n",
      "Recall: 1.0\n",
      "F1 Score: 0.8\n",
      "Confusion Matrix:\n",
      "[0, 1]\n",
      "[0, 2]\n"
     ]
    }
   ],
   "source": [
    "dataset = [\n",
    "    {\"BallPos\": \"Serving\", \"StrikePos\": \"Serving\", \"StrikeTech\": \"Serving\", \"Spin\": \"Up spin\"},\n",
    "    {\"BallPos\": \"Right Zone\", \"StrikePos\": \"Right Zone\", \"StrikeTech\": \"Overhand Serving\", \"Spin\": \"Top Spin\"},\n",
    "    {\"BallPos\": \"Left Zone\", \"StrikePos\": \"Left Zone\", \"StrikeTech\": \"Underhand Serving\", \"Spin\": \"Down Spin\"},\n",
    "]\n",
    "\n",
    "labels = [0, 1, 1]  \n",
    "\n",
    "num_trees = 3  \n",
    "\n",
    "one_hot_encoded_data = []\n",
    "for entry in dataset:\n",
    "    encoded_entry = []\n",
    "    for attr, values in entry.items():\n",
    "        if attr == \"BallPos\":\n",
    "            encoded_entry.extend([1 if values == pos else 0 for pos in [\"Serving\", \"Right Zone\", \"Left Zone\"]])\n",
    "        elif attr == \"StrikePos\":\n",
    "            encoded_entry.extend([1 if values == pos else 0 for pos in [\"Serving\", \"Right Zone\", \"Left Zone\"]])\n",
    "        elif attr == \"StrikeTech\":\n",
    "            encoded_entry.extend([1 if values == tech else 0 for tech in [\"Serving\", \"Overhand Serving\", \"Underhand Serving\"]])\n",
    "        elif attr == \"Spin\":\n",
    "            encoded_entry.extend([1 if values == spin else 0 for spin in [\"Up spin\", \"Top Spin\", \"Down Spin\"]])\n",
    "    one_hot_encoded_data.append(encoded_entry)\n",
    "\n",
    "def predict(tree, data_point):\n",
    "    while True:\n",
    "        if \"value\" in tree:\n",
    "            return tree[\"value\"]\n",
    "        attr, threshold, left, right = tree[\"attr\"], tree[\"threshold\"], tree[\"left\"], tree[\"right\"]\n",
    "        if data_point[attr] < threshold:\n",
    "            tree = left\n",
    "        else:\n",
    "            tree = right\n",
    "\n",
    "def build_tree(data, labels):\n",
    "    return {\"attr\": None, \"threshold\": None, \"left\": None, \"right\": None, \"value\": sum(labels) / len(labels)}\n",
    "\n",
    "def gradient_boosting_predict(trees, data_point):\n",
    "    return sum(predict(tree, data_point) for tree in trees) / len(trees)\n",
    "\n",
    "trees = []\n",
    "for _ in range(num_trees):\n",
    "    tree = build_tree(one_hot_encoded_data, labels)\n",
    "    trees.append(tree)\n",
    "\n",
    "predictions = [gradient_boosting_predict(trees, data_point) for data_point in one_hot_encoded_data]\n",
    "\n",
    "true_positives, true_negatives, false_positives, false_negatives = 0, 0, 0, 0\n",
    "for prediction, label in zip(predictions, labels):\n",
    "    if prediction >= 0.5 and label == 1:\n",
    "        true_positives += 1\n",
    "    elif prediction >= 0.5 and label == 0:\n",
    "        false_positives += 1\n",
    "    elif prediction < 0.5 and label == 1:\n",
    "        false_negatives += 1\n",
    "    elif prediction < 0.5 and label == 0:\n",
    "        true_negatives += 1\n",
    "\n",
    "accuracy = (true_positives + true_negatives) / len(labels)\n",
    "precision = true_positives / (true_positives + false_positives) if (true_positives + false_positives) != 0 else 0\n",
    "recall = true_positives / (true_positives + false_negatives) if (true_positives + false_negatives) != 0 else 0\n",
    "f1_score = 2 * precision * recall / (precision + recall) if (precision + recall) != 0 else 0\n",
    "\n",
    "confusion_matrix = [[true_negatives, false_positives], [false_negatives, true_positives]]\n",
    "\n",
    "print(\"Accuracy:\", accuracy)\n",
    "print(\"Precision:\", precision)\n",
    "print(\"Recall:\", recall)\n",
    "print(\"F1 Score:\", f1_score)\n",
    "print(\"Confusion Matrix:\")\n",
    "for row in confusion_matrix:\n",
    "    print(row)\n"
   ]
  },
  {
   "cell_type": "code",
   "execution_count": null,
   "id": "ea6933ef-b5d1-439a-82ee-4c3bf239ac00",
   "metadata": {},
   "outputs": [],
   "source": []
  }
 ],
 "metadata": {
  "kernelspec": {
   "display_name": "Python 3 (ipykernel)",
   "language": "python",
   "name": "python3"
  },
  "language_info": {
   "codemirror_mode": {
    "name": "ipython",
    "version": 3
   },
   "file_extension": ".py",
   "mimetype": "text/x-python",
   "name": "python",
   "nbconvert_exporter": "python",
   "pygments_lexer": "ipython3",
   "version": "3.11.8"
  }
 },
 "nbformat": 4,
 "nbformat_minor": 5
}
